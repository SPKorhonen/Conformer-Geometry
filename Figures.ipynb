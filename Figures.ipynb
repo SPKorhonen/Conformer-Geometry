{
 "cells": [
  {
   "cell_type": "code",
   "execution_count": 71,
   "metadata": {},
   "outputs": [],
   "source": [
    "import sys, os\n",
    "import math\n",
    "import numpy as np\n",
    "import pandas as pd\n",
    "import matplotlib.pyplot as plt\n",
    "import seaborn as sns\n",
    "from scipy.stats import wilcoxon\n",
    "import openbabel\n",
    "import pybel\n",
    "from pybel import ob\n",
    "from itertools import combinations"
   ]
  },
  {
   "cell_type": "markdown",
   "metadata": {},
   "source": [
    "Figures and Tables"
   ]
  },
  {
   "cell_type": "code",
   "execution_count": 47,
   "metadata": {},
   "outputs": [],
   "source": [
    "# Biphenyl Example\n",
    "biphenyl = pybel.readfile(\"cml\", os.getcwd() + \"/molecules/biphenyl.cml\").next()"
   ]
  },
  {
   "cell_type": "code",
   "execution_count": 48,
   "metadata": {},
   "outputs": [
    {
     "data": {
      "image/svg+xml": [
       "<svg xmlns=\"http://www.w3.org/2000/svg\" font-family=\"sans-serif\" height=\"100\" stroke=\"rgb(0,0,0)\" stroke-linecap=\"round\" stroke-width=\"2\" viewBox=\"0 0 322.487 300\" width=\"100\" x=\"0\" y=\"0\">\n",
       "<line stroke=\"rgb(0,0,0)\" stroke-width=\"2.0\" x1=\"247.8\" x2=\"271.2\" y1=\"100.0\" y2=\"86.5\" />\n",
       "<line stroke=\"rgb(0,0,0)\" stroke-width=\"2.0\" x1=\"247.8\" x2=\"271.2\" y1=\"140.0\" y2=\"153.5\" />\n",
       "<line stroke=\"rgb(0,0,0)\" stroke-width=\"2.0\" x1=\"213.2\" x2=\"213.2\" y1=\"160.0\" y2=\"187.0\" />\n",
       "<line stroke=\"rgb(0,0,0)\" stroke-width=\"2.0\" x1=\"178.6\" x2=\"155.2\" y1=\"100.0\" y2=\"86.5\" />\n",
       "<line stroke=\"rgb(0,0,0)\" stroke-width=\"2.0\" x1=\"213.2\" x2=\"213.2\" y1=\"80.0\" y2=\"53.0\" />\n",
       "<line stroke=\"rgb(0,0,0)\" stroke-width=\"2.0\" x1=\"178.6\" x2=\"143.9\" y1=\"140.0\" y2=\"160.0\" />\n",
       "<line stroke=\"rgb(0,0,0)\" stroke-width=\"2.0\" x1=\"143.9\" x2=\"167.3\" y1=\"200.0\" y2=\"213.5\" />\n",
       "<line stroke=\"rgb(0,0,0)\" stroke-width=\"2.0\" x1=\"74.6\" x2=\"51.3\" y1=\"200.0\" y2=\"213.5\" />\n",
       "<line stroke=\"rgb(0,0,0)\" stroke-width=\"2.0\" x1=\"74.6\" x2=\"51.3\" y1=\"160.0\" y2=\"146.5\" />\n",
       "<line stroke=\"rgb(0,0,0)\" stroke-width=\"2.0\" x1=\"109.3\" x2=\"109.3\" y1=\"140.0\" y2=\"113.0\" />\n",
       "<line stroke=\"rgb(0,0,0)\" stroke-width=\"2.0\" x1=\"109.3\" x2=\"109.3\" y1=\"220.0\" y2=\"247.0\" />\n",
       "<line stroke=\"rgb(0,0,0)\" stroke-width=\"2.0\" x1=\"247.8\" x2=\"247.8\" y1=\"140.0\" y2=\"100.0\" />\n",
       "<line stroke=\"rgb(0,0,0)\" stroke-width=\"2.0\" x1=\"240.6\" x2=\"240.6\" y1=\"134.0\" y2=\"106.0\" />\n",
       "<line stroke=\"rgb(0,0,0)\" stroke-width=\"2.0\" x1=\"247.8\" x2=\"213.2\" y1=\"100.0\" y2=\"80.0\" />\n",
       "<line stroke=\"rgb(0,0,0)\" stroke-width=\"2.0\" x1=\"213.2\" x2=\"178.6\" y1=\"80.0\" y2=\"100.0\" />\n",
       "<line stroke=\"rgb(0,0,0)\" stroke-width=\"2.0\" x1=\"211.6\" x2=\"187.4\" y1=\"89.2\" y2=\"103.2\" />\n",
       "<line stroke=\"rgb(0,0,0)\" stroke-width=\"2.0\" x1=\"178.6\" x2=\"178.6\" y1=\"100.0\" y2=\"140.0\" />\n",
       "<line stroke=\"rgb(0,0,0)\" stroke-width=\"2.0\" x1=\"178.6\" x2=\"213.2\" y1=\"140.0\" y2=\"160.0\" />\n",
       "<line stroke=\"rgb(0,0,0)\" stroke-width=\"2.0\" x1=\"187.4\" x2=\"211.6\" y1=\"136.8\" y2=\"150.8\" />\n",
       "<line stroke=\"rgb(0,0,0)\" stroke-width=\"2.0\" x1=\"213.2\" x2=\"247.8\" y1=\"160.0\" y2=\"140.0\" />\n",
       "<line stroke=\"rgb(0,0,0)\" stroke-width=\"2.0\" x1=\"143.9\" x2=\"143.9\" y1=\"200.0\" y2=\"160.0\" />\n",
       "<line stroke=\"rgb(0,0,0)\" stroke-width=\"2.0\" x1=\"143.9\" x2=\"109.3\" y1=\"160.0\" y2=\"140.0\" />\n",
       "<line stroke=\"rgb(0,0,0)\" stroke-width=\"2.0\" x1=\"135.1\" x2=\"110.9\" y1=\"163.2\" y2=\"149.2\" />\n",
       "<line stroke=\"rgb(0,0,0)\" stroke-width=\"2.0\" x1=\"109.3\" x2=\"74.6\" y1=\"140.0\" y2=\"160.0\" />\n",
       "<line stroke=\"rgb(0,0,0)\" stroke-width=\"2.0\" x1=\"74.6\" x2=\"74.6\" y1=\"160.0\" y2=\"200.0\" />\n",
       "<line stroke=\"rgb(0,0,0)\" stroke-width=\"2.0\" x1=\"81.8\" x2=\"81.8\" y1=\"166.0\" y2=\"194.0\" />\n",
       "<line stroke=\"rgb(0,0,0)\" stroke-width=\"2.0\" x1=\"74.6\" x2=\"109.3\" y1=\"200.0\" y2=\"220.0\" />\n",
       "<line stroke=\"rgb(0,0,0)\" stroke-width=\"2.0\" x1=\"109.3\" x2=\"143.9\" y1=\"220.0\" y2=\"200.0\" />\n",
       "<line stroke=\"rgb(0,0,0)\" stroke-width=\"2.0\" x1=\"110.9\" x2=\"135.1\" y1=\"210.8\" y2=\"196.8\" />\n",
       "<text fill=\"rgb(191,191,191)\" font-size=\"16\" stroke=\"rgb(191,191,191)\" stroke-width=\"1\" x=\"103.282032\" y=\"268.000000\">H</text>\n",
       "<text fill=\"rgb(191,191,191)\" font-size=\"16\" stroke=\"rgb(191,191,191)\" stroke-width=\"1\" x=\"103.282032\" y=\"108.000000\">H</text>\n",
       "<text fill=\"rgb(191,191,191)\" font-size=\"16\" stroke=\"rgb(191,191,191)\" stroke-width=\"1\" x=\"34.000000\" y=\"148.000000\">H</text>\n",
       "<text fill=\"rgb(191,191,191)\" font-size=\"16\" stroke=\"rgb(191,191,191)\" stroke-width=\"1\" x=\"172.564065\" y=\"228.000000\">H</text>\n",
       "<text fill=\"rgb(191,191,191)\" font-size=\"16\" stroke=\"rgb(191,191,191)\" stroke-width=\"1\" x=\"34.000000\" y=\"228.000000\">H</text>\n",
       "<text fill=\"rgb(191,191,191)\" font-size=\"16\" stroke=\"rgb(191,191,191)\" stroke-width=\"1\" x=\"207.205081\" y=\"48.000000\">H</text>\n",
       "<text fill=\"rgb(191,191,191)\" font-size=\"16\" stroke=\"rgb(191,191,191)\" stroke-width=\"1\" x=\"137.923048\" y=\"88.000000\">H</text>\n",
       "<text fill=\"rgb(191,191,191)\" font-size=\"16\" stroke=\"rgb(191,191,191)\" stroke-width=\"1\" x=\"207.205081\" y=\"208.000000\">H</text>\n",
       "<text fill=\"rgb(191,191,191)\" font-size=\"16\" stroke=\"rgb(191,191,191)\" stroke-width=\"1\" x=\"276.487113\" y=\"88.000000\">H</text>\n",
       "<text fill=\"rgb(191,191,191)\" font-size=\"16\" stroke=\"rgb(191,191,191)\" stroke-width=\"1\" x=\"276.487113\" y=\"168.000000\">H</text>\n",
       "</svg>\n"
      ],
      "text/plain": [
       "<pybel.Molecule at 0x7f9157a1b910>"
      ]
     },
     "execution_count": 48,
     "metadata": {},
     "output_type": "execute_result"
    }
   ],
   "source": [
    "# Print Mol\n",
    "biphenyl"
   ]
  },
  {
   "cell_type": "code",
   "execution_count": 7,
   "metadata": {},
   "outputs": [],
   "source": [
    "# Force Field: MMFF94\n",
    "ff = pybel._forcefields['mmff94']\n",
    "\n",
    "def energy():\n",
    "    return ff.Energy(False)"
   ]
  },
  {
   "cell_type": "code",
   "execution_count": 32,
   "metadata": {},
   "outputs": [],
   "source": [
    "x = np.linspace(0,2*math.pi, 200).reshape([200,1])\n",
    "\n",
    "rl = ob.OBRotorList()\n",
    "rl.Setup(biphenyl.OBMol)\n",
    "ff.Setup(biphenyl.OBMol)\n",
    "currentCoords = biphenyl.OBMol.GetCoordinates()\n",
    "rotIterator = rl.BeginRotors()\n",
    "rotor = rl.BeginRotor(rotIterator)  # first rotatable bond\n",
    "rotors = []\n",
    "angles = []  # in radians\n",
    "while rotor is not None:\n",
    "    angle = rotor.CalcTorsion(currentCoords)\n",
    "    angles.append(angle)\n",
    "    rotors.append(rotor)\n",
    "    rotor = rl.NextRotor(rotIterator)\n",
    "\n",
    "def calculate_energy(torsion_angles):\n",
    "    ff = pybel._forcefields['mmff94']\n",
    "    output = []\n",
    "    for j in range(torsion_angles.shape[0]):\n",
    "        for i in range(torsion_angles.shape[1]):\n",
    "            rotors[i].SetToAngle(currentCoords, torsion_angles[j,i])\n",
    "            biphenyl.OBMol.SetCoordinates(currentCoords)\n",
    "            ff.SetCoordinates(biphenyl.OBMol)\n",
    "        output.append(ff.Energy())\n",
    "    return np.array(output).reshape([torsion_angles.shape[0],1])\n",
    "\n",
    "biphenyl_energy = calculate_energy(x)"
   ]
  },
  {
   "cell_type": "code",
   "execution_count": 46,
   "metadata": {},
   "outputs": [
    {
     "data": {
      "image/png": "[encoded data removed]",
      "text/plain": [
       "<Figure size 432x288 with 1 Axes>"
      ]
     },
     "metadata": {},
     "output_type": "display_data"
    }
   ],
   "source": [
    "# Plot -- Simulated Energy Landscape \n",
    "plt.plot(x, biphenyl_energy)\n",
    "plt.xticks([0, math.pi/2, math.pi, 3*math.pi/2, 2*math.pi],\n",
    "           [\"$0$\", r\"$\\frac{1}{2}\\pi$\", r\"$\\pi$\", r\"$\\frac{3}{2}\\pi$\", r\"$2\\pi$\"])\n",
    "plt.ylabel(\"Energy (kcal/mol)\")\n",
    "plt.xlabel(\"Torions Angle\")\n",
    "plt.title(\"Biphenyl Energy Landscape\")\n",
    "plt.show()"
   ]
  },
  {
   "cell_type": "code",
   "execution_count": 52,
   "metadata": {},
   "outputs": [],
   "source": [
    "# Load Files\n",
    "sets = ['one', 'two', 'three', 'four', 'five', 'six']\n",
    "early_stop_file =  [pd.read_csv(os.getcwd() + \"/result/summary/{}_iter_summary.txt\".format(x)) for x in sets]\n",
    "lowest_point_file =  [pd.read_csv(os.getcwd()+ \"/result/summary/{}_lowest_point.txt\".format(x)) for x in sets]"
   ]
  },
  {
   "cell_type": "code",
   "execution_count": 53,
   "metadata": {},
   "outputs": [
    {
     "data": {
      "image/png": "[encoded data removed]",
      "text/plain": [
       "<Figure size 432x288 with 1 Axes>"
      ]
     },
     "metadata": {},
     "output_type": "display_data"
    }
   ],
   "source": [
    "# Number of evaluations in Confab\n",
    "# Read File and Concatenate\n",
    "confab = [pd.read_csv(os.getcwd() + \"/result/confab_no_evaluation/{}_confab_no.txt\".format(x)) for x in sets]\n",
    "concatenate_confab = pd.concat(confab, axis=0)\n",
    "no_rot_bonds_list = [[i+1]*len(confab[i]) for i in range(6)]\n",
    "no_rot_bonds = [item for sublist in no_rot_bonds_list for item in sublist]\n",
    "concatenate_confab[\"No_Rotor\"] = no_rot_bonds\n",
    "\n",
    "# Violin Plot\n",
    "fig, ax = plt.subplots()\n",
    "ax.set(xscale='linear', yscale=\"log\")\n",
    "sns.boxplot(data=concatenate_confab, x = \"No_Rotor\", y = \"Number\", linewidth=1, width=.3)\n",
    "plt.xlabel(\"Number of rotatable bonds\")\n",
    "plt.ylabel(r\"Number of evaluations\")\n",
    "plt.title(\"Confab: number of evaluations\")\n",
    "plt.style\n",
    "plt.show()"
   ]
  },
  {
   "cell_type": "code",
   "execution_count": 54,
   "metadata": {},
   "outputs": [],
   "source": [
    "# Load Energy Difference File\n",
    "seeds = [321, 123, 234, 345, 456] \n",
    "seeds_four = [321, 1234,2345,3456,4567]\n",
    "one_energy = [pd.read_csv(os.getcwd() + \"/result/energy/one_{}.txt\".format(x)) for x in seeds]\n",
    "two_energy = [pd.read_csv(os.getcwd() +\"/result/energy/two_{}.txt\".format(x)) for x in seeds]\n",
    "three_energy = [pd.read_csv(os.getcwd() + \"/result/energy/three_{}.txt\".format(x)) for x in seeds]\n",
    "four_energy = [pd.read_csv(os.getcwd() + \"/result/energy/four_{}.txt\".format(x)) for x in seeds_four]\n",
    "five_energy = [pd.read_csv(os.getcwd() + \"/result/energy/five_{}.txt\".format(x)) for x in seeds]\n",
    "six_energy = [pd.read_csv(os.getcwd() + \"/result/energy/six_{}.txt\".format(x)) for x in seeds]\n",
    "\n"
   ]
  },
  {
   "cell_type": "code",
   "execution_count": 55,
   "metadata": {},
   "outputs": [
    {
     "data": {
      "text/html": [
       "<div>\n",
       "<style scoped>\n",
       "    .dataframe tbody tr th:only-of-type {\n",
       "        vertical-align: middle;\n",
       "    }\n",
       "\n",
       "    .dataframe tbody tr th {\n",
       "        vertical-align: top;\n",
       "    }\n",
       "\n",
       "    .dataframe thead th {\n",
       "        text-align: right;\n",
       "    }\n",
       "</style>\n",
       "<table border=\"1\" class=\"dataframe\">\n",
       "  <thead>\n",
       "    <tr style=\"text-align: right;\">\n",
       "      <th></th>\n",
       "      <th>Target</th>\n",
       "      <th>Uniform</th>\n",
       "      <th>EI</th>\n",
       "      <th>LCB</th>\n",
       "      <th>N_rot</th>\n",
       "    </tr>\n",
       "  </thead>\n",
       "  <tbody>\n",
       "    <tr>\n",
       "      <th>0</th>\n",
       "      <td>astex_1hq2</td>\n",
       "      <td>1.177558</td>\n",
       "      <td>-0.009270</td>\n",
       "      <td>-0.009201</td>\n",
       "      <td>1</td>\n",
       "    </tr>\n",
       "    <tr>\n",
       "      <th>1</th>\n",
       "      <td>astex_1p2y</td>\n",
       "      <td>8.626438</td>\n",
       "      <td>-0.005136</td>\n",
       "      <td>-0.005127</td>\n",
       "      <td>1</td>\n",
       "    </tr>\n",
       "    <tr>\n",
       "      <th>2</th>\n",
       "      <td>omegapdb_1xge</td>\n",
       "      <td>6.987051</td>\n",
       "      <td>-1.637241</td>\n",
       "      <td>-1.637272</td>\n",
       "      <td>1</td>\n",
       "    </tr>\n",
       "    <tr>\n",
       "      <th>3</th>\n",
       "      <td>astex_1xoz</td>\n",
       "      <td>51.979654</td>\n",
       "      <td>-0.255194</td>\n",
       "      <td>-0.255042</td>\n",
       "      <td>1</td>\n",
       "    </tr>\n",
       "    <tr>\n",
       "      <th>4</th>\n",
       "      <td>omegapdb_1yc5</td>\n",
       "      <td>4.691540</td>\n",
       "      <td>-0.041488</td>\n",
       "      <td>-0.041639</td>\n",
       "      <td>1</td>\n",
       "    </tr>\n",
       "  </tbody>\n",
       "</table>\n",
       "</div>"
      ],
      "text/plain": [
       "          Target    Uniform        EI       LCB  N_rot\n",
       "0     astex_1hq2   1.177558 -0.009270 -0.009201      1\n",
       "1     astex_1p2y   8.626438 -0.005136 -0.005127      1\n",
       "2  omegapdb_1xge   6.987051 -1.637241 -1.637272      1\n",
       "3     astex_1xoz  51.979654 -0.255194 -0.255042      1\n",
       "4  omegapdb_1yc5   4.691540 -0.041488 -0.041639      1"
      ]
     },
     "execution_count": 55,
     "metadata": {},
     "output_type": "execute_result"
    }
   ],
   "source": [
    "# Energy Table Example\n",
    "# Uniform / EI / LCB shows the energy difference between \n",
    "# lowest energy conformation found by Confab and the conformation found by the \n",
    "# BO/uniform search\n",
    "# MMFF94 is used for energy evaluation\n",
    "one_energy[1].head()"
   ]
  },
  {
   "cell_type": "code",
   "execution_count": 56,
   "metadata": {},
   "outputs": [],
   "source": [
    "# Remove mol with early stopping in BO search\n",
    "def remove_early_stopping(energy_file, early_stop_file):\n",
    "    temp = list(map(lambda x: pd.merge(x, early_stop_file, on='Target'), energy_file))\n",
    "    output = list(map(lambda x: x[x[\"Early_Stop\"]== 'No'], temp))\n",
    "    return output\n",
    "\n",
    "energy_all =  [one_energy, two_energy, three_energy, four_energy, five_energy, six_energy]\n",
    "energy_all_clean = []\n",
    "for indx, item in enumerate(energy_all):\n",
    "    energy_all_clean.append(remove_early_stopping(item, early_stop_file[indx]))"
   ]
  },
  {
   "cell_type": "code",
   "execution_count": 57,
   "metadata": {},
   "outputs": [],
   "source": [
    "# Energy Difference\n",
    "# Use seed 321 for this plot\n",
    "energy_seed_321 = [item[0] for item in energy_all_clean]\n",
    "\n",
    "energy_difference = []\n",
    "for item in energy_seed_321:\n",
    "    temp = pd.melt(item, id_vars=['N_rot'], value_vars=[\"EI\", \"LCB\"]) \n",
    "    temp.columns = [\"N_rot\", \"Method\", \"Energy_Difference\"]\n",
    "    energy_difference.append(temp)\n",
    "                     \n",
    "\n",
    "energy_difference_frame = pd.concat(energy_difference, axis=0)"
   ]
  },
  {
   "cell_type": "code",
   "execution_count": 62,
   "metadata": {},
   "outputs": [
    {
     "name": "stdout",
     "output_type": "stream",
     "text": [
      "[4.1707151248166205, 11.387232329999662, 24.88624008772541, 41.23382363634698, 104.510259249915, 212.90626928800117]\n"
     ]
    }
   ],
   "source": [
    "uniform_321_median = [item[\"Uniform\"].median() for item in energy_seed_321]\n",
    "print(uniform_321_median)"
   ]
  },
  {
   "cell_type": "code",
   "execution_count": 65,
   "metadata": {},
   "outputs": [
    {
     "data": {
      "text/plain": [
       "Text(0.5,0,'Number of rotatable bonds')"
      ]
     },
     "execution_count": 65,
     "metadata": {},
     "output_type": "execute_result"
    },
    {
     "data": {
      "image/png": "[encoded data removed]",
      "text/plain": [
       "<Figure size 432x288 with 1 Axes>"
      ]
     },
     "metadata": {},
     "output_type": "display_data"
    }
   ],
   "source": [
    "# Plot\n",
    "sns.violinplot(data=energy_difference_frame, x=\"N_rot\", y=\"Energy_Difference\", hue=\"Method\", cut=0)\n",
    "# No energy difference\n",
    "plt.hlines(y=0, xmin=-.5, xmax=8.5, color='red', linestyles= \"--\", label='No difference') \n",
    "# median energy difference (uniform random search)\n",
    "plt.hlines(y=4.17, xmin=-0.5, xmax=0.5, label=\"Uniform (median)\") # N-rot = 1 \n",
    "plt.hlines(y=11.39, xmin=0.5, xmax=1.5) # N_rot = 2  \n",
    "plt.hlines(y=24.89, xmin=1.5, xmax=2.5) # N_rot = 3  \n",
    "plt.hlines(y=41.23, xmin=2.5, xmax=3.5) # N_rot = 4  \n",
    "plt.hlines(y=104.51, xmin=3.5, xmax=4.5) #  N_rot = 5  \n",
    "plt.title(\"Energy Difference\")\n",
    "plt.legend(loc = 'upper left')\n",
    "plt.ylabel(r\"$\\Delta E$ (kcal/mol)\")\n",
    "plt.xlabel(\"Number of rotatable bonds\")"
   ]
  },
  {
   "cell_type": "code",
   "execution_count": 66,
   "metadata": {
    "collapsed": true
   },
   "outputs": [
    {
     "data": {
      "text/plain": [
       "[          Target         Lowest Best\n",
       " 0     astex_1hq2  LCB_bayes_345  Yes\n",
       " 1     astex_1p2y  LCB_bayes_345  Yes\n",
       " 2  omegapdb_1xge   EI_bayes_234  Yes\n",
       " 3     astex_1xoz  LCB_bayes_234  Yes\n",
       " 4  omegapdb_1yc5   EI_bayes_234  Yes\n",
       " 5     astex_1hnn  LCB_bayes_123  Yes,            Target         Lowest Best\n",
       " 0      astex_1uou  LCB_bayes_123   No\n",
       " 1   omegapdb_2c4w   EI_bayes_321  Yes\n",
       " 2      astex_1ia1  LCB_bayes_234  Yes\n",
       " 3      astex_1w2g  LCB_bayes_456  Yes\n",
       " 4   omegapdb_1n3z  LCB_bayes_234  Yes\n",
       " 5      astex_1p62   EI_bayes_123  Yes\n",
       " 6      astex_1lrh   EI_bayes_234   No\n",
       " 7      astex_1of1  LCB_bayes_123  Yes\n",
       " 8      astex_1hp0  LCB_bayes_321  Yes\n",
       " 9      astex_1sg0  LCB_bayes_345  Yes\n",
       " 10  omegapdb_1v97   EI_bayes_345  Yes\n",
       " 11     astex_1j3j  LCB_bayes_234  Yes\n",
       " 12     astex_1m2z   EI_bayes_345  Yes,                 Target         Lowest Best\n",
       " 0      omegacsd_HEKROE   EI_bayes_321  Yes\n",
       " 1        omegapdb_1pa9   EI_bayes_345  Yes\n",
       " 2      omegacsd_CLPTBU  LCB_bayes_123  Yes\n",
       " 3    omegacsd_BEWLIY10   EI_bayes_123  Yes\n",
       " 4      omegacsd_LAWJEY  LCB_bayes_456   No\n",
       " 5      omegacsd_YITLES  LCB_bayes_321  Yes\n",
       " 6      omegacsd_YESPIV   EI_bayes_345  Yes\n",
       " 7      omegacsd_JUKZUK  LCB_bayes_345   No\n",
       " 8    omegacsd_BEWLOE10  LCB_bayes_123   No\n",
       " 9        omegapdb_1toj   EI_bayes_234   No\n",
       " 10       omegapdb_1m5d   EI_bayes_123   No\n",
       " 11          astex_1jd0  LCB_bayes_321  Yes\n",
       " 12     omegacsd_BAXOZO   EI_bayes_321  Yes\n",
       " 13     omegacsd_KIHWAZ  LCB_bayes_345  Yes\n",
       " 14     omegacsd_DAKGEB   EI_bayes_345  Yes\n",
       " 15       omegapdb_1bto  LCB_bayes_321   No\n",
       " 16     omegacsd_KEMHOZ  LCB_bayes_123   No\n",
       " 17     omegacsd_PAPPHI  LCB_bayes_345  Yes\n",
       " 18     omegacsd_PEXFED   EI_bayes_234   No\n",
       " 19       omegapdb_1uwc   EI_bayes_234  Yes\n",
       " 20     omegacsd_SIFJIA  LCB_bayes_123   No\n",
       " 21     omegacsd_CUSLUX   EI_bayes_456   No\n",
       " 22     omegacsd_BAFREF  LCB_bayes_456  Yes\n",
       " 23       omegapdb_2brc   EI_bayes_321  Yes\n",
       " 24          astex_1n2v  LCB_bayes_321   No\n",
       " 25     omegacsd_AMPDAM   EI_bayes_123   No\n",
       " 26     omegacsd_VENRUB   EI_bayes_345   No\n",
       " 27     omegacsd_CLPHAC   EI_bayes_123   No\n",
       " 28       omegapdb_1k2t  LCB_bayes_123  Yes\n",
       " 29       omegapdb_1utt  LCB_bayes_321  Yes\n",
       " ..                 ...            ...  ...\n",
       " 114         astex_1r9o  LCB_bayes_321  Yes\n",
       " 115    omegacsd_VOXMOK  LCB_bayes_123  Yes\n",
       " 116      omegapdb_1syh  LCB_bayes_234  Yes\n",
       " 117    omegacsd_DCLPET  LCB_bayes_321   No\n",
       " 118      omegapdb_1yc4  LCB_bayes_345   No\n",
       " 119    omegacsd_PMPBTZ   EI_bayes_321   No\n",
       " 120    omegacsd_JUBGES  LCB_bayes_456   No\n",
       " 121      omegapdb_1ur8  LCB_bayes_345   No\n",
       " 122         astex_1n1m   EI_bayes_321   No\n",
       " 123    omegacsd_CENNIS   EI_bayes_321   No\n",
       " 124    omegacsd_CEVTUS   EI_bayes_234  Yes\n",
       " 125      omegapdb_1c1u   EI_bayes_321   No\n",
       " 126    omegacsd_KIHWED   EI_bayes_321  Yes\n",
       " 127    omegacsd_WEVTIA  LCB_bayes_345  Yes\n",
       " 128    omegacsd_JUDLUP  LCB_bayes_345  Yes\n",
       " 129    omegacsd_FUNXUH  LCB_bayes_321  Yes\n",
       " 130    omegacsd_BUNFUL   EI_bayes_123  Yes\n",
       " 131    omegacsd_MRMPYR   EI_bayes_234  Yes\n",
       " 132    omegacsd_GEKWAU  LCB_bayes_345  Yes\n",
       " 133      omegapdb_2evc   EI_bayes_234  Yes\n",
       " 134    omegacsd_FECPUY  LCB_bayes_321  Yes\n",
       " 135    omegacsd_WIDDIW    uniform_321  Yes\n",
       " 136  omegacsd_BBSPRT10  LCB_bayes_345  Yes\n",
       " 137    omegacsd_HEXYIS   EI_bayes_123  Yes\n",
       " 138      omegapdb_1e2m   EI_bayes_234   No\n",
       " 139    omegacsd_KAXXAI   EI_bayes_234   No\n",
       " 140      omegapdb_2flb   EI_bayes_321  Yes\n",
       " 141    omegacsd_DANNEL   EI_bayes_123   No\n",
       " 142    omegacsd_CANPUC  LCB_bayes_123  Yes\n",
       " 143    omegacsd_CMSMOC   EI_bayes_234  Yes\n",
       " \n",
       " [144 rows x 3 columns],                 Target          Lowest Best\n",
       " 0      omegacsd_VIBNID   EI_bayes_1234   No\n",
       " 1      omegacsd_DENBUT   LCB_bayes_321  Yes\n",
       " 2    omegacsd_BZAPUC20   EI_bayes_4567   No\n",
       " 3      omegacsd_VAMCUH   EI_bayes_4567  Yes\n",
       " 4    omegacsd_AMOCMS10   EI_bayes_3456   No\n",
       " 5      omegacsd_SORCOR  LCB_bayes_4567   No\n",
       " 6      omegacsd_KECDUR   EI_bayes_2345  Yes\n",
       " 7      omegacsd_VUSKID   EI_bayes_2345   No\n",
       " 8      omegacsd_DIAVER   EI_bayes_1234   No\n",
       " 9        omegapdb_1m5b   LCB_bayes_321   No\n",
       " 10     omegacsd_HBFRAN   EI_bayes_3456  Yes\n",
       " 11     omegacsd_GIFZAW  LCB_bayes_3456   No\n",
       " 12       omegapdb_1xn0   EI_bayes_3456   No\n",
       " 13     omegacsd_DIWWUB  LCB_bayes_1234   No\n",
       " 14     omegacsd_YEYVED  LCB_bayes_2345   No\n",
       " 15     omegacsd_PIKDIW   EI_bayes_2345   No\n",
       " 16     omegacsd_SIHDES    EI_bayes_321  Yes\n",
       " 17     omegacsd_FIXNUV   EI_bayes_3456  Yes\n",
       " 18   omegacsd_CDBMPI10  LCB_bayes_3456  Yes\n",
       " 19     omegacsd_HEPGAK  LCB_bayes_3456   No\n",
       " 20     omegacsd_SIHVUA   EI_bayes_1234   No\n",
       " 21       omegapdb_1hyo    EI_bayes_321   No\n",
       " 22     omegacsd_FPAMCA   EI_bayes_2345   No\n",
       " 23     omegacsd_KABJOM   EI_bayes_3456  Yes\n",
       " 24     omegacsd_WIKJOP    EI_bayes_321   No\n",
       " 25     omegacsd_NFCSEY  LCB_bayes_1234   No\n",
       " 26   omegacsd_QQQHDG10   LCB_bayes_321  Yes\n",
       " 27       omegapdb_1k2u   EI_bayes_1234  Yes\n",
       " 28   omegacsd_MATSTA10   EI_bayes_2345  Yes\n",
       " 29       omegapdb_1ofd    EI_bayes_321   No\n",
       " ..                 ...             ...  ...\n",
       " 146    omegacsd_AURMIN   EI_bayes_4567  Yes\n",
       " 147    omegacsd_SOWCOW  LCB_bayes_2345   No\n",
       " 148    omegacsd_VOXNOL   EI_bayes_2345  Yes\n",
       " 149      omegapdb_2btr  LCB_bayes_1234  Yes\n",
       " 150    omegacsd_DAWRAU  LCB_bayes_3456   No\n",
       " 151    omegacsd_JUBJOF  LCB_bayes_2345   No\n",
       " 152    omegacsd_EITDZL    EI_bayes_321  Yes\n",
       " 153    omegacsd_DIZREJ   LCB_bayes_321  Yes\n",
       " 154    omegacsd_CMXPMB   LCB_bayes_321  Yes\n",
       " 155    omegacsd_FOMDUG   EI_bayes_4567  Yes\n",
       " 156      omegapdb_1s8j   LCB_bayes_321  Yes\n",
       " 157    omegacsd_FEWBAK   EI_bayes_1234  Yes\n",
       " 158    omegacsd_LETBUH   EI_bayes_4567  Yes\n",
       " 159      omegapdb_1gja  LCB_bayes_1234   No\n",
       " 160    omegacsd_CMPEPI   EI_bayes_2345   No\n",
       " 161    omegacsd_JUHHEZ   EI_bayes_3456  Yes\n",
       " 162      omegapdb_1o3l  LCB_bayes_1234  Yes\n",
       " 163      omegapdb_1nnk  LCB_bayes_4567  Yes\n",
       " 164    omegacsd_VOPDIN   EI_bayes_2345   No\n",
       " 165    omegacsd_BIBHID  LCB_bayes_1234   No\n",
       " 166    omegacsd_GEJJUA   EI_bayes_4567   No\n",
       " 167    omegacsd_YOSMOI  LCB_bayes_4567  Yes\n",
       " 168      omegapdb_1sa4  LCB_bayes_1234   No\n",
       " 169    omegacsd_HASCOT  LCB_bayes_2345  Yes\n",
       " 170    omegacsd_ABVPRO   EI_bayes_4567  Yes\n",
       " 171    omegacsd_HEVJAT    EI_bayes_321  Yes\n",
       " 172      omegapdb_1oks   EI_bayes_3456   No\n",
       " 173    omegacsd_PMPAIN   EI_bayes_1234   No\n",
       " 174      omegapdb_1rf6  LCB_bayes_3456   No\n",
       " 175    omegacsd_KACKII    EI_bayes_321   No\n",
       " \n",
       " [176 rows x 3 columns],                 Target         Lowest Best\n",
       " 0      omegacsd_CAVNUI   EI_bayes_345  Yes\n",
       " 1      omegacsd_SFDMOX   EI_bayes_321   No\n",
       " 2      omegacsd_FEKYEZ  LCB_bayes_234   No\n",
       " 3      omegacsd_LIKMEX   EI_bayes_321   No\n",
       " 4      omegacsd_PEBHAF   EI_bayes_456   No\n",
       " 5      omegacsd_VORJER   EI_bayes_234  Yes\n",
       " 6           astex_1gm8  LCB_bayes_345   No\n",
       " 7      omegacsd_DOLJIX  LCB_bayes_123   No\n",
       " 8      omegacsd_DIZWAK  LCB_bayes_123  Yes\n",
       " 9        omegapdb_1iy7    uniform_321   No\n",
       " 10   omegacsd_FURSEM01   EI_bayes_456   No\n",
       " 11     omegacsd_SEYPUH  LCB_bayes_321   No\n",
       " 12     omegacsd_WEBCOV  LCB_bayes_345   No\n",
       " 13       omegapdb_1d3h  LCB_bayes_234  Yes\n",
       " 14     omegacsd_CIXFIY  LCB_bayes_456  Yes\n",
       " 15     omegacsd_FEFPOV  LCB_bayes_234  Yes\n",
       " 16       omegapdb_2iko  LCB_bayes_123  Yes\n",
       " 17     omegacsd_LACCEX   EI_bayes_321   No\n",
       " 18     omegacsd_YICPIJ  LCB_bayes_123   No\n",
       " 19     omegacsd_DEBBER   EI_bayes_345   No\n",
       " 20     omegacsd_GAVMIZ   EI_bayes_234  Yes\n",
       " 21     omegacsd_PXEZSD   EI_bayes_321  Yes\n",
       " 22     omegacsd_GEHKIN   EI_bayes_234   No\n",
       " 23     omegacsd_CETZOQ   EI_bayes_123   No\n",
       " 24     omegacsd_YILDOM   EI_bayes_321   No\n",
       " 25     omegacsd_VEYRAS   EI_bayes_123   No\n",
       " 26     omegacsd_FUMBOE   EI_bayes_321   No\n",
       " 27     omegacsd_DUZDAD   EI_bayes_456  Yes\n",
       " 28       omegapdb_1v2k  LCB_bayes_123   No\n",
       " 29     omegacsd_NBPENC   EI_bayes_345  Yes\n",
       " ..                 ...            ...  ...\n",
       " 91          astex_1t9b  LCB_bayes_321   No\n",
       " 92     omegacsd_VOXHAR  LCB_bayes_456   No\n",
       " 93     omegacsd_CLPNXA  LCB_bayes_345   No\n",
       " 94     omegacsd_TPHPRO  LCB_bayes_456   No\n",
       " 95     omegacsd_YAHFAO   EI_bayes_456   No\n",
       " 96     omegacsd_VIBWIM   EI_bayes_345   No\n",
       " 97       omegapdb_1w9u   EI_bayes_234   No\n",
       " 98     omegacsd_CAFGIZ   EI_bayes_321   No\n",
       " 99     omegacsd_BUDCUY   EI_bayes_456   No\n",
       " 100      omegapdb_1q72  LCB_bayes_234   No\n",
       " 101    omegacsd_KICRIX   EI_bayes_321   No\n",
       " 102    omegacsd_DAXKAO  LCB_bayes_234   No\n",
       " 103    omegacsd_FEYJEY   EI_bayes_123   No\n",
       " 104      omegapdb_1s63  LCB_bayes_123   No\n",
       " 105    omegacsd_PACVUK   EI_bayes_456   No\n",
       " 106    omegacsd_GASXED   EI_bayes_321  Yes\n",
       " 107    omegacsd_YULZOU   EI_bayes_234  Yes\n",
       " 108    omegacsd_CUJSAB   EI_bayes_321   No\n",
       " 109    omegacsd_HEXFEV   EI_bayes_345   No\n",
       " 110    omegacsd_LINLAV   EI_bayes_321   No\n",
       " 111    omegacsd_GEJLAI  LCB_bayes_345   No\n",
       " 112    omegacsd_SEMXEN  LCB_bayes_123  Yes\n",
       " 113    omegacsd_YUYJEH  LCB_bayes_456  Yes\n",
       " 114      omegapdb_1nqu  LCB_bayes_234   No\n",
       " 115    omegacsd_PXMPEN   EI_bayes_345   No\n",
       " 116  omegacsd_MBZTZT10   EI_bayes_321   No\n",
       " 117    omegacsd_CPYPTZ  LCB_bayes_321   No\n",
       " 118    omegacsd_DECZIU   EI_bayes_456   No\n",
       " 119    omegacsd_DOXANN   EI_bayes_321   No\n",
       " 120    omegacsd_VAYXOI  LCB_bayes_345   No\n",
       " \n",
       " [121 rows x 3 columns],                 Target         Lowest Best\n",
       " 0      omegacsd_SILTUC   EI_bayes_234   No\n",
       " 1      omegacsd_COKBOT   EI_bayes_234   No\n",
       " 2      omegacsd_TAPSOS   EI_bayes_234  Yes\n",
       " 3        omegapdb_1v2n  LCB_bayes_234   No\n",
       " 4      omegacsd_DAFVUB  LCB_bayes_123   No\n",
       " 5      omegacsd_JOTDAX   EI_bayes_345  Yes\n",
       " 6        omegapdb_1h1s   EI_bayes_321   No\n",
       " 7      omegacsd_YULXIM   EI_bayes_321   No\n",
       " 8      omegacsd_COYTOZ   EI_bayes_321   No\n",
       " 9           astex_2bsm  LCB_bayes_345  Yes\n",
       " 10          astex_1yqy   EI_bayes_456   No\n",
       " 11     omegacsd_BENPRL   EI_bayes_456   No\n",
       " 12     omegacsd_BUYZIE  LCB_bayes_456   No\n",
       " 13     omegacsd_MVERIQ  LCB_bayes_456  Yes\n",
       " 14     omegacsd_SISYIC   EI_bayes_234  Yes\n",
       " 15     omegacsd_ABSBPP   EI_bayes_456  Yes\n",
       " 16       omegapdb_2j47  LCB_bayes_123   No\n",
       " 17          astex_1s3v  LCB_bayes_321   No\n",
       " 18     omegacsd_CMANPQ   EI_bayes_234   No\n",
       " 19     omegacsd_AZLNPR   EI_bayes_234   No\n",
       " 20     omegacsd_DEBBOB   EI_bayes_456   No\n",
       " 21   omegacsd_FLPNTX10  LCB_bayes_345   No\n",
       " 22     omegacsd_HEHVOF  LCB_bayes_123   No\n",
       " 23     omegacsd_KIXLOS  LCB_bayes_123   No\n",
       " 24       omegapdb_2gss   EI_bayes_345   No\n",
       " 25     omegacsd_SIHDIW   EI_bayes_234   No\n",
       " 26     omegacsd_CATXIE  LCB_bayes_234   No\n",
       " 27     omegacsd_COCHOL   EI_bayes_456   No\n",
       " 28       omegapdb_1g4s   EI_bayes_345   No\n",
       " 29     omegacsd_PMANAQ  LCB_bayes_321  Yes\n",
       " ..                 ...            ...  ...\n",
       " 82       omegapdb_1gs5  LCB_bayes_321   No\n",
       " 83     omegacsd_VORDAH  LCB_bayes_345   No\n",
       " 84     omegacsd_PEXJEH   EI_bayes_123   No\n",
       " 85       omegapdb_2ewb   EI_bayes_234   No\n",
       " 86     omegacsd_HALOPE   EI_bayes_345   No\n",
       " 87     omegacsd_MICONZ   EI_bayes_456  Yes\n",
       " 88     omegacsd_HALDOL  LCB_bayes_321   No\n",
       " 89       omegapdb_1yvx   EI_bayes_234   No\n",
       " 90     omegacsd_AOPCHY  LCB_bayes_321   No\n",
       " 91       omegapdb_1o2y   EI_bayes_321   No\n",
       " 92     omegacsd_CIJFEG   EI_bayes_456   No\n",
       " 93     omegacsd_COTXUE   EI_bayes_234   No\n",
       " 94   omegacsd_FABSOQ10   EI_bayes_345   No\n",
       " 95     omegacsd_FUJRUX  LCB_bayes_456   No\n",
       " 96     omegacsd_FANRER  LCB_bayes_345   No\n",
       " 97     omegacsd_FAXPUP  LCB_bayes_345   No\n",
       " 98     omegacsd_SAGMUI   EI_bayes_345   No\n",
       " 99       omegapdb_2cji   EI_bayes_234   No\n",
       " 100    omegacsd_YOPWOP   EI_bayes_123   No\n",
       " 101      omegapdb_6prc   EI_bayes_123   No\n",
       " 102      omegapdb_1f8b  LCB_bayes_123   No\n",
       " 103    omegacsd_HALSES  LCB_bayes_234   No\n",
       " 104    omegacsd_BEKDIE   EI_bayes_234   No\n",
       " 105    omegacsd_LEDWAS   EI_bayes_234   No\n",
       " 106    omegacsd_EPCMPO  LCB_bayes_345   No\n",
       " 107    omegacsd_SAWZUL  LCB_bayes_345   No\n",
       " 108      omegapdb_1oiu  LCB_bayes_234   No\n",
       " 109    omegacsd_ACTHBZ   EI_bayes_123   No\n",
       " 110      omegapdb_1uy8  LCB_bayes_345   No\n",
       " 111      omegapdb_1xon  LCB_bayes_345   No\n",
       " \n",
       " [112 rows x 3 columns]]"
      ]
     },
     "execution_count": 66,
     "metadata": {},
     "output_type": "execute_result"
    }
   ],
   "source": [
    "# Percentage of lowest energy conformations found by different algorithms\n",
    "# 5 x 100 iterations  in Uniform and BO\n"
   ]
  },
  {
   "cell_type": "code",
   "execution_count": 68,
   "metadata": {},
   "outputs": [],
   "source": [
    "# \"Champion Rate\"\n",
    "# Percentage of molecules that BO and Uniform search recover in each trial\n",
    "def count_better_conformation(inputs):\n",
    "    temp = inputs.iloc[:,1:4] <= 0\n",
    "    output = temp.sum(axis=0)\n",
    "    return output\n",
    "\n",
    "# Count number of better conformations found in each trial\n",
    "outputs = []\n",
    "for item in energy_all_clean:\n",
    "    outputs.append(list(map(lambda x: count_better_conformation(x)*100/len(x), item)))\n",
    "\n",
    "all_count = []\n",
    "for indx, item in enumerate(outputs):\n",
    "    temp = pd.DataFrame(item)\n",
    "    temp[\"N_rot\"] = indx + 1\n",
    "    all_count.append(temp)\n",
    "    \n",
    "dataframe = []\n",
    "for item in all_count:\n",
    "    temp = pd.melt(item, id_vars=['N_rot'], value_vars=[\"Uniform\",\"EI\", \"LCB\"])\n",
    "    temp.columns = [\"N_rot\", \"Method\", \"Percentage\"]\n",
    "    dataframe.append(temp)\n",
    "    \n",
    "concatenate_dataframe = pd.concat(dataframe, axis=0)"
   ]
  },
  {
   "cell_type": "code",
   "execution_count": 70,
   "metadata": {},
   "outputs": [
    {
     "data": {
      "image/png": "[encoded data removed]",
      "text/plain": [
       "<Figure size 432x288 with 1 Axes>"
      ]
     },
     "metadata": {},
     "output_type": "display_data"
    }
   ],
   "source": [
    "# Plot\n",
    "sns.barplot(data=concatenate_dataframe, x='N_rot', y='Percentage', hue='Method')\n",
    "plt.legend(loc = \"upper right\")\n",
    "#plt.title()\n",
    "plt.xlabel(\"Number of rotatable bonds\")\n",
    "plt.ylabel(r\"Percentage (%)\")\n",
    "plt.title(\"Percentage of lower energy conformers were recovered by \\n BO and uniform search versus Confab\")\n",
    "plt.show()"
   ]
  },
  {
   "cell_type": "code",
   "execution_count": 108,
   "metadata": {},
   "outputs": [
    {
     "data": {
      "text/html": [
       "<div>\n",
       "<style scoped>\n",
       "    .dataframe tbody tr th:only-of-type {\n",
       "        vertical-align: middle;\n",
       "    }\n",
       "\n",
       "    .dataframe tbody tr th {\n",
       "        vertical-align: top;\n",
       "    }\n",
       "\n",
       "    .dataframe thead th {\n",
       "        text-align: right;\n",
       "    }\n",
       "</style>\n",
       "<table border=\"1\" class=\"dataframe\">\n",
       "  <thead>\n",
       "    <tr style=\"text-align: right;\">\n",
       "      <th></th>\n",
       "      <th>(Uniform, EI)</th>\n",
       "      <th>(Uniform, LCB)</th>\n",
       "      <th>(EI, LCB)</th>\n",
       "    </tr>\n",
       "    <tr>\n",
       "      <th>N_rot</th>\n",
       "      <th></th>\n",
       "      <th></th>\n",
       "      <th></th>\n",
       "    </tr>\n",
       "  </thead>\n",
       "  <tbody>\n",
       "    <tr>\n",
       "      <th>1_2_3</th>\n",
       "      <td>(61.0, 8.1164594553507e-24)</td>\n",
       "      <td>(34.0, 4.5234244397503416e-24)</td>\n",
       "      <td>(3400.0, 0.024685317609709698)</td>\n",
       "    </tr>\n",
       "    <tr>\n",
       "      <th>4</th>\n",
       "      <td>(0.0, 4.4596816413765627e-23)</td>\n",
       "      <td>(0.0, 4.4596816413765627e-23)</td>\n",
       "      <td>(3802.0, 0.4381760822507269)</td>\n",
       "    </tr>\n",
       "    <tr>\n",
       "      <th>5</th>\n",
       "      <td>(9.0, 3.467518300919642e-17)</td>\n",
       "      <td>(11.0, 3.694512617742505e-17)</td>\n",
       "      <td>(2195.0, 0.8875460201293948)</td>\n",
       "    </tr>\n",
       "    <tr>\n",
       "      <th>6</th>\n",
       "      <td>(3.0, 2.79275975821423e-15)</td>\n",
       "      <td>(1.0, 2.596441359658979e-15)</td>\n",
       "      <td>(1300.0, 0.08963328070679676)</td>\n",
       "    </tr>\n",
       "  </tbody>\n",
       "</table>\n",
       "</div>"
      ],
      "text/plain": [
       "                       (Uniform, EI)                  (Uniform, LCB)  \\\n",
       "N_rot                                                                  \n",
       "1_2_3    (61.0, 8.1164594553507e-24)  (34.0, 4.5234244397503416e-24)   \n",
       "4      (0.0, 4.4596816413765627e-23)   (0.0, 4.4596816413765627e-23)   \n",
       "5       (9.0, 3.467518300919642e-17)   (11.0, 3.694512617742505e-17)   \n",
       "6        (3.0, 2.79275975821423e-15)    (1.0, 2.596441359658979e-15)   \n",
       "\n",
       "                            (EI, LCB)  \n",
       "N_rot                                  \n",
       "1_2_3  (3400.0, 0.024685317609709698)  \n",
       "4        (3802.0, 0.4381760822507269)  \n",
       "5        (2195.0, 0.8875460201293948)  \n",
       "6       (1300.0, 0.08963328070679676)  "
      ]
     },
     "execution_count": 108,
     "metadata": {},
     "output_type": "execute_result"
    }
   ],
   "source": [
    "# Wilcoxon Signed Rank Test (Energy Difference)\n",
    "methods = [\"Uniform\", \"EI\", \"LCB\"]\n",
    "method_pair = list(combinations(methods, 2))\n",
    "wilcox_output = []\n",
    "merge_one_to_three = pd.concat([energy_seed_321[0], energy_seed_321[1], energy_seed_321[2]], axis=0)\n",
    "energy_for_wilcox_test = [merge_one_to_three, energy_seed_321[3], energy_seed_321[4], energy_seed_321[5]]\n",
    "\n",
    "\n",
    "for item in energy_for_wilcox_test:\n",
    "    temp = list(map(lambda x: wilcoxon(item[x[0]], item[x[1]]), method_pair))\n",
    "    wilcox_output.append(temp)\n",
    "    \n",
    "# Wilcoxon Signed Rank Test Table\n",
    "energy_table = pd.DataFrame(wilcox_output)\n",
    "energy_table.columns =  method_pair\n",
    "energy_table.index = [\"1_2_3\", \"4\", \"5\", \"6\"]\n",
    "energy_table.index.names = [\"N_rot\"]\n",
    "energy_table # (test statistics, p-value)\n"
   ]
  },
  {
   "cell_type": "code",
   "execution_count": null,
   "metadata": {},
   "outputs": [],
   "source": []
  },
  {
   "cell_type": "code",
   "execution_count": null,
   "metadata": {},
   "outputs": [],
   "source": []
  },
  {
   "cell_type": "markdown",
   "metadata": {},
   "source": [
    "Figures and Tables in Supporting Information"
   ]
  },
  {
   "cell_type": "code",
   "execution_count": null,
   "metadata": {},
   "outputs": [],
   "source": [
    "# RMSD Plot"
   ]
  },
  {
   "cell_type": "code",
   "execution_count": null,
   "metadata": {},
   "outputs": [],
   "source": [
    "# Wilcoxon Signed Rank Test (RMSD)"
   ]
  },
  {
   "cell_type": "code",
   "execution_count": null,
   "metadata": {},
   "outputs": [],
   "source": []
  },
  {
   "cell_type": "code",
   "execution_count": null,
   "metadata": {},
   "outputs": [],
   "source": [
    "# TFD Plot"
   ]
  },
  {
   "cell_type": "code",
   "execution_count": null,
   "metadata": {},
   "outputs": [],
   "source": [
    "# Wilcoxon Signed Rank Test (TFD)"
   ]
  }
 ],
 "metadata": {
  "kernelspec": {
   "display_name": "Python 2",
   "language": "python",
   "name": "python2"
  },
  "language_info": {
   "codemirror_mode": {
    "name": "ipython",
    "version": 2
   },
   "file_extension": ".py",
   "mimetype": "text/x-python",
   "name": "python",
   "nbconvert_exporter": "python",
   "pygments_lexer": "ipython2",
   "version": "2.7.15"
  }
 },
 "nbformat": 4,
 "nbformat_minor": 2
}
