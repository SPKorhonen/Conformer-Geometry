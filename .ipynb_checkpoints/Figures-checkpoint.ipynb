{
 "cells": [
  {
   "cell_type": "code",
   "execution_count": 1,
   "metadata": {},
   "outputs": [],
   "source": [
    "import sys, os\n",
    "import numpy as np\n",
    "import pandas as pd\n",
    "import matplotlib.pyplot as plt\n",
    "import seaborn as sns\n",
    "from scipy.stats import wilcoxon"
   ]
  },
  {
   "cell_type": "code",
   "execution_count": 2,
   "metadata": {},
   "outputs": [],
   "source": [
    "# Load Files\n",
    "sets = ['one', 'two', 'three', 'four', 'five', 'six']\n",
    "early_stop_file =  [pd.read_csv(os.getcwd() + \"/result/summary/{}_iter_summary.txt\".format(x)) for x in sets]\n",
    "lowest_point_file =  [pd.read_csv(os.getcwd()+ \"/result/summary/{}_lowest_point.txt\".format(x)) for x in sets]"
   ]
  },
  {
   "cell_type": "code",
   "execution_count": 3,
   "metadata": {},
   "outputs": [
    {
     "data": {
      "image/png": "[encoded data removed]",
      "text/plain": [
       "<Figure size 432x288 with 1 Axes>"
      ]
     },
     "metadata": {},
     "output_type": "display_data"
    }
   ],
   "source": [
    "# Number of evaluations in Confab\n",
    "# Read File and Concatenate\n",
    "confab = [pd.read_csv(os.getcwd() + \"/result/confab_no_evaluation/{}_confab_no.txt\".format(x)) for x in sets]\n",
    "concatenate_confab = pd.concat(confab, axis=0)\n",
    "no_rot_bonds_list = [[i+1]*len(confab[i]) for i in range(6)]\n",
    "no_rot_bonds = [item for sublist in no_rot_bonds_list for item in sublist]\n",
    "concatenate_confab[\"No_Rotor\"] = no_rot_bonds\n",
    "\n",
    "# Violin Plot\n",
    "fig, ax = plt.subplots()\n",
    "ax.set(xscale='linear', yscale=\"log\")\n",
    "sns.boxplot(data=concatenate_confab, x = \"No_Rotor\", y = \"Number\", linewidth=1, width=.3)\n",
    "plt.xlabel(\"Number of rotatable bonds\")\n",
    "plt.ylabel(r\"Number of evaluations\")\n",
    "plt.title(\"Confab: number of evaluations\")\n",
    "plt.style\n",
    "plt.show()"
   ]
  },
  {
   "cell_type": "code",
   "execution_count": 22,
   "metadata": {},
   "outputs": [],
   "source": [
    "# Load Energy Difference File\n",
    "seeds = [321, 123, 234, 345, 456] \n",
    "seeds_four = [321, 1234,2345,3456,4567]\n",
    "one_energy = [pd.read_csv(os.getcwd() + \"/result/energy/one_{}.txt\".format(x)) for x in seeds]\n",
    "two_energy = [pd.read_csv(os.getcwd() +\"/result/energy/two_{}.txt\".format(x)) for x in seeds]\n",
    "three_energy = [pd.read_csv(os.getcwd() + \"/result/energy/three_{}.txt\".format(x)) for x in seeds]\n",
    "four_energy = [pd.read_csv(os.getcwd() + \"/result/energy/four_{}.txt\".format(x)) for x in seeds_four]\n",
    "five_energy = [pd.read_csv(os.getcwd() + \"/result/energy/five_{}.txt\".format(x)) for x in seeds]\n",
    "six_energy = [pd.read_csv(os.getcwd() + \"/result/energy/six_{}.txt\".format(x)) for x in seeds]\n",
    "\n"
   ]
  },
  {
   "cell_type": "code",
   "execution_count": 23,
   "metadata": {},
   "outputs": [
    {
     "data": {
      "text/html": [
       "<div>\n",
       "<style scoped>\n",
       "    .dataframe tbody tr th:only-of-type {\n",
       "        vertical-align: middle;\n",
       "    }\n",
       "\n",
       "    .dataframe tbody tr th {\n",
       "        vertical-align: top;\n",
       "    }\n",
       "\n",
       "    .dataframe thead th {\n",
       "        text-align: right;\n",
       "    }\n",
       "</style>\n",
       "<table border=\"1\" class=\"dataframe\">\n",
       "  <thead>\n",
       "    <tr style=\"text-align: right;\">\n",
       "      <th></th>\n",
       "      <th>Target</th>\n",
       "      <th>Uniform</th>\n",
       "      <th>EI</th>\n",
       "      <th>LCB</th>\n",
       "      <th>N_rot</th>\n",
       "    </tr>\n",
       "  </thead>\n",
       "  <tbody>\n",
       "    <tr>\n",
       "      <th>0</th>\n",
       "      <td>astex_1hq2</td>\n",
       "      <td>1.177558</td>\n",
       "      <td>-0.009270</td>\n",
       "      <td>-0.009201</td>\n",
       "      <td>1</td>\n",
       "    </tr>\n",
       "    <tr>\n",
       "      <th>1</th>\n",
       "      <td>astex_1p2y</td>\n",
       "      <td>8.626438</td>\n",
       "      <td>-0.005136</td>\n",
       "      <td>-0.005127</td>\n",
       "      <td>1</td>\n",
       "    </tr>\n",
       "    <tr>\n",
       "      <th>2</th>\n",
       "      <td>omegapdb_1xge</td>\n",
       "      <td>6.987051</td>\n",
       "      <td>-1.637241</td>\n",
       "      <td>-1.637272</td>\n",
       "      <td>1</td>\n",
       "    </tr>\n",
       "    <tr>\n",
       "      <th>3</th>\n",
       "      <td>astex_1xoz</td>\n",
       "      <td>51.979654</td>\n",
       "      <td>-0.255194</td>\n",
       "      <td>-0.255042</td>\n",
       "      <td>1</td>\n",
       "    </tr>\n",
       "    <tr>\n",
       "      <th>4</th>\n",
       "      <td>omegapdb_1yc5</td>\n",
       "      <td>4.691540</td>\n",
       "      <td>-0.041488</td>\n",
       "      <td>-0.041639</td>\n",
       "      <td>1</td>\n",
       "    </tr>\n",
       "  </tbody>\n",
       "</table>\n",
       "</div>"
      ],
      "text/plain": [
       "          Target    Uniform        EI       LCB  N_rot\n",
       "0     astex_1hq2   1.177558 -0.009270 -0.009201      1\n",
       "1     astex_1p2y   8.626438 -0.005136 -0.005127      1\n",
       "2  omegapdb_1xge   6.987051 -1.637241 -1.637272      1\n",
       "3     astex_1xoz  51.979654 -0.255194 -0.255042      1\n",
       "4  omegapdb_1yc5   4.691540 -0.041488 -0.041639      1"
      ]
     },
     "execution_count": 23,
     "metadata": {},
     "output_type": "execute_result"
    }
   ],
   "source": [
    "# Energy Table Example\n",
    "# Uniform / EI / LCB shows the energy difference between \n",
    "# lowest energy conformation found by Confab and the conformation found by the \n",
    "# BO/uniform search\n",
    "# MMFF94 is used for energy evaluation\n",
    "one_energy[1].head()"
   ]
  },
  {
   "cell_type": "code",
   "execution_count": 52,
   "metadata": {},
   "outputs": [],
   "source": [
    "# Remove mol with early stopping in BO search\n",
    "def remove_early_stopping(energy_file, early_stop_file):\n",
    "    temp = list(map(lambda x: pd.merge(x, early_stop_file, on='Target'), energy_file))\n",
    "    output = list(map(lambda x: x[x[\"Early_Stop\"]== 'No'], temp))\n",
    "    return output\n",
    "\n",
    "energy_all =  [one_energy, two_energy, three_energy, four_energy, five_energy, six_energy]\n",
    "energy_all_clean = []\n",
    "for indx, item in enumerate(energy_all):\n",
    "    energy_all_clean.append(remove_early_stopping(item, early_stop_file[indx]))"
   ]
  },
  {
   "cell_type": "code",
   "execution_count": 67,
   "metadata": {},
   "outputs": [],
   "source": [
    "# \"Champion Rate\"\n",
    "# Percentage of molecules that BO and Uniform search recover in each trial\n",
    "def count_better_conformation(inputs):\n",
    "    temp = inputs.iloc[:,1:4] <= 0\n",
    "    output = temp.sum(axis=0)\n",
    "    return output\n",
    "\n",
    "# Count number of better conformations found in each trial\n",
    "outputs = []\n",
    "for item in energy_all_clean:\n",
    "    outputs.append(list(map(lambda x: count_better_conformation(x)*100/len(x), item)))\n",
    "\n",
    "all_count = []\n",
    "for indx, item in enumerate(outputs):\n",
    "    temp = pd.DataFrame(item)\n",
    "    temp[\"N_rot\"] = indx + 1\n",
    "    all_count.append(temp)\n",
    "    \n",
    "dataframe = []\n",
    "for item in all_count:\n",
    "    temp = pd.melt(item, id_vars=['N_rot'], value_vars=[\"Uniform\",\"EI\", \"LCB\"])\n",
    "    temp.columns = [\"N_rot\", \"Method\", \"Percentage\"]\n",
    "    dataframe.append(temp)\n",
    "    \n",
    "concatenate_dataframe = pd.concat(dataframe, axis=0)"
   ]
  },
  {
   "cell_type": "code",
   "execution_count": 74,
   "metadata": {},
   "outputs": [
    {
     "data": {
      "text/plain": [
       "Text(0,0.5,'Percentage (%)')"
      ]
     },
     "execution_count": 74,
     "metadata": {},
     "output_type": "execute_result"
    },
    {
     "data": {
      "image/png": "[encoded data removed]",
      "text/plain": [
       "<Figure size 432x288 with 1 Axes>"
      ]
     },
     "metadata": {},
     "output_type": "display_data"
    }
   ],
   "source": [
    "# Plot\n",
    "sns.barplot(data=concatenate_dataframe, x='N_rot', y='Percentage', hue='Method')\n",
    "plt.legend(loc = \"upper right\")\n",
    "#plt.title()\n",
    "plt.xlabel(\"Number of rotatable bonds\")\n",
    "plt.ylabel(r\"Percentage (%)\")"
   ]
  },
  {
   "cell_type": "code",
   "execution_count": 90,
   "metadata": {},
   "outputs": [],
   "source": [
    "# Energy Difference\n",
    "# Use seed 321 only for this plot\n",
    "energy_seed_321 = [item[0] for item in energy_all_clean]\n",
    "\n",
    "energy_difference = []\n",
    "for item in energy_seed_321:\n",
    "    temp = pd.melt(item, id_vars=['N_rot'], value_vars=[\"EI\", \"LCB\"]) \n",
    "    temp.columns = [\"N_rot\", \"Method\", \"Energy_Difference\"]\n",
    "    energy_difference.append(temp)\n",
    "                     \n",
    "\n",
    "energy_difference_frame = pd.concat(energy_difference, axis=0)"
   ]
  },
  {
   "cell_type": "code",
   "execution_count": 104,
   "metadata": {},
   "outputs": [
    {
     "data": {
      "text/plain": [
       "Text(0.5,0,'Number of rotatable bonds')"
      ]
     },
     "execution_count": 104,
     "metadata": {},
     "output_type": "execute_result"
    },
    {
     "data": {
      "image/png": "[encoded data removed]",
      "text/plain": [
       "<Figure size 432x288 with 1 Axes>"
      ]
     },
     "metadata": {},
     "output_type": "display_data"
    }
   ],
   "source": [
    "# Plot\n",
    "sns.violinplot(data=energy_difference_frame, x=\"N_rot\", y=\"Energy_Difference\", hue=\"Method\", cut=0)\n",
    "plt.hlines(y=0, xmin=-.5, xmax=8.5, color='red', label='No Difference') # No energy difference\n",
    "#plt.hlines() # median energy difference -- N_rot = 1  (uniform random search)\n",
    "#plt.hlines() # median energy difference -- N_rot = 1  (uniform random search)\n",
    "#plt.hlines() # median energy difference -- N_rot = 1  (uniform random search)\n",
    "#plt.hlines() # median energy difference -- N_rot = 1  (uniform random search)\n",
    "#plt.hlines() # median energy difference -- N_rot = 1  (uniform random search)\n",
    "plt.title(\"Energy Difference in different search algorithms\")\n",
    "plt.legend(loc = 'upper left')\n",
    "plt.ylabel(r\"$\\Delta E$ (kcal/mol)\")\n",
    "plt.xlabel(\"Number of rotatable bonds\")"
   ]
  },
  {
   "cell_type": "code",
   "execution_count": null,
   "metadata": {},
   "outputs": [],
   "source": [
    "# Wilcoxon Signed Rank Test (Energy Difference)"
   ]
  },
  {
   "cell_type": "code",
   "execution_count": null,
   "metadata": {},
   "outputs": [],
   "source": []
  },
  {
   "cell_type": "code",
   "execution_count": null,
   "metadata": {},
   "outputs": [],
   "source": [
    "# RMSD Plot"
   ]
  },
  {
   "cell_type": "code",
   "execution_count": null,
   "metadata": {},
   "outputs": [],
   "source": [
    "# Wilcoxon Signed Rank Test (RMSD)"
   ]
  },
  {
   "cell_type": "code",
   "execution_count": null,
   "metadata": {},
   "outputs": [],
   "source": []
  },
  {
   "cell_type": "code",
   "execution_count": null,
   "metadata": {},
   "outputs": [],
   "source": [
    "# TFD Plot"
   ]
  },
  {
   "cell_type": "code",
   "execution_count": null,
   "metadata": {},
   "outputs": [],
   "source": [
    "# Wilcoxon Signed Rank Test (TFD)"
   ]
  }
 ],
 "metadata": {
  "kernelspec": {
   "display_name": "Python 2",
   "language": "python",
   "name": "python2"
  },
  "language_info": {
   "codemirror_mode": {
    "name": "ipython",
    "version": 2
   },
   "file_extension": ".py",
   "mimetype": "text/x-python",
   "name": "python",
   "nbconvert_exporter": "python",
   "pygments_lexer": "ipython2",
   "version": "2.7.15"
  }
 },
 "nbformat": 4,
 "nbformat_minor": 2
}
